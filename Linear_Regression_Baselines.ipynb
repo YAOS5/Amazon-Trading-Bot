{
 "cells": [
  {
   "cell_type": "code",
   "execution_count": 2,
   "metadata": {},
   "outputs": [],
   "source": [
    "import matplotlib.pyplot as plt\n",
    "%matplotlib inline\n",
    "import seaborn as sns\n",
    "import pandas as pd\n",
    "import os\n",
    "import numpy as np\n",
    "import statsmodels.api as sm\n",
    "from statsmodels.tsa.ar_model import AutoReg\n",
    "from statsmodels.tsa.ar_model import AR\n",
    "\n",
    "from ads_utils import load_data, plot\n",
    "data = load_data([2])"
   ]
  },
  {
   "cell_type": "code",
   "execution_count": 3,
   "metadata": {},
   "outputs": [],
   "source": [
    "res = AutoReg(data.close, lags = 1).fit()"
   ]
  },
  {
   "cell_type": "code",
   "execution_count": 4,
   "metadata": {},
   "outputs": [
    {
     "name": "stdout",
     "output_type": "stream",
     "text": [
      "                            AutoReg Model Results                             \n",
      "==============================================================================\n",
      "Dep. Variable:                  close   No. Observations:                10294\n",
      "Model:                     AutoReg(1)   Log Likelihood              -26251.391\n",
      "Method:               Conditional MLE   S.D. of innovations              3.100\n",
      "Date:                Tue, 13 Oct 2020   AIC                              2.264\n",
      "Time:                        11:49:26   BIC                              2.266\n",
      "Sample:                             1   HQIC                             2.264\n",
      "                                10294                                         \n",
      "==============================================================================\n",
      "                 coef    std err          z      P>|z|      [0.025      0.975]\n",
      "------------------------------------------------------------------------------\n",
      "intercept      2.1137      1.130      1.870      0.061      -0.102       4.329\n",
      "close.L1       0.9993      0.000   2804.379      0.000       0.999       1.000\n",
      "                                    Roots                                    \n",
      "=============================================================================\n",
      "                  Real          Imaginary           Modulus         Frequency\n",
      "-----------------------------------------------------------------------------\n",
      "AR.1            1.0007           +0.0000j            1.0007            0.0000\n",
      "-----------------------------------------------------------------------------\n"
     ]
    }
   ],
   "source": [
    "print(res.summary())"
   ]
  },
  {
   "cell_type": "code",
   "execution_count": 5,
   "metadata": {},
   "outputs": [
    {
     "data": {
      "text/plain": [
       "intercept    2.113687\n",
       "close.L1     0.999342\n",
       "dtype: float64"
      ]
     },
     "execution_count": 5,
     "metadata": {},
     "output_type": "execute_result"
    }
   ],
   "source": [
    "res.params"
   ]
  },
  {
   "cell_type": "code",
   "execution_count": 6,
   "metadata": {},
   "outputs": [
    {
     "name": "stderr",
     "output_type": "stream",
     "text": [
      "C:\\Users\\camch\\Anaconda3\\lib\\site-packages\\statsmodels\\tsa\\ar_model.py:691: FutureWarning: \n",
      "statsmodels.tsa.AR has been deprecated in favor of statsmodels.tsa.AutoReg and\n",
      "statsmodels.tsa.SARIMAX.\n",
      "\n",
      "AutoReg adds the ability to specify exogenous variables, include time trends,\n",
      "and add seasonal dummies. The AutoReg API differs from AR since the model is\n",
      "treated as immutable, and so the entire specification including the lag\n",
      "length must be specified when creating the model. This change is too\n",
      "substantial to incorporate into the existing AR api. The function\n",
      "ar_select_order performs lag length selection for AutoReg models.\n",
      "\n",
      "AutoReg only estimates parameters using conditional MLE (OLS). Use SARIMAX to\n",
      "estimate ARX and related models using full MLE via the Kalman Filter.\n",
      "\n",
      "To silence this warning and continue using AR until it is removed, use:\n",
      "\n",
      "import warnings\n",
      "warnings.filterwarnings('ignore', 'statsmodels.tsa.ar_model.AR', FutureWarning)\n",
      "\n",
      "  warnings.warn(AR_DEPRECATION_WARN, FutureWarning)\n"
     ]
    },
    {
     "data": {
      "text/plain": [
       "const        1.663408\n",
       "L1.close     0.970583\n",
       "L2.close    -0.016225\n",
       "L3.close     0.032742\n",
       "L4.close    -0.005750\n",
       "L5.close     0.016201\n",
       "L6.close     0.000925\n",
       "L7.close     0.000332\n",
       "L8.close    -0.011641\n",
       "L9.close     0.016281\n",
       "L10.close    0.018010\n",
       "L11.close   -0.028519\n",
       "L12.close    0.005748\n",
       "L13.close    0.042172\n",
       "L14.close   -0.014993\n",
       "L15.close   -0.012505\n",
       "L16.close   -0.002769\n",
       "L17.close   -0.007384\n",
       "L18.close   -0.020841\n",
       "L19.close   -0.014806\n",
       "L20.close    0.008186\n",
       "L21.close   -0.000493\n",
       "L22.close    0.006473\n",
       "L23.close    0.010096\n",
       "L24.close   -0.013380\n",
       "L25.close    0.021041\n",
       "dtype: float64"
      ]
     },
     "execution_count": 6,
     "metadata": {},
     "output_type": "execute_result"
    }
   ],
   "source": [
    "res = AutoReg(data.close, lags = 1).fit()\n",
    "mdl = AR(data.close).fit(maxlag=30,ic=\"aic\",trend=\"c\")\n",
    "mdl.params"
   ]
  },
  {
   "cell_type": "code",
   "execution_count": 7,
   "metadata": {},
   "outputs": [
    {
     "name": "stdout",
     "output_type": "stream",
     "text": [
      "const        1.663408\n",
      "L1.close     0.970583\n",
      "L2.close    -0.016225\n",
      "L3.close     0.032742\n",
      "L4.close    -0.005750\n",
      "L5.close     0.016201\n",
      "L6.close     0.000925\n",
      "L7.close     0.000332\n",
      "L8.close    -0.011641\n",
      "L9.close     0.016281\n",
      "L10.close    0.018010\n",
      "L11.close   -0.028519\n",
      "L12.close    0.005748\n",
      "L13.close    0.042172\n",
      "L14.close   -0.014993\n",
      "L15.close   -0.012505\n",
      "L16.close   -0.002769\n",
      "L17.close   -0.007384\n",
      "L18.close   -0.020841\n",
      "L19.close   -0.014806\n",
      "L20.close    0.008186\n",
      "L21.close   -0.000493\n",
      "L22.close    0.006473\n",
      "L23.close    0.010096\n",
      "L24.close   -0.013380\n",
      "L25.close    0.021041\n",
      "dtype: float64\n"
     ]
    }
   ],
   "source": [
    "est_order = AR(data.close).select_order(maxlag=30, ic='aic', trend='c')\n",
    "print(mdl.params)"
   ]
  },
  {
   "cell_type": "code",
   "execution_count": null,
   "metadata": {},
   "outputs": [],
   "source": []
  }
 ],
 "metadata": {
  "kernelspec": {
   "display_name": "Python 3",
   "language": "python",
   "name": "python3"
  },
  "language_info": {
   "codemirror_mode": {
    "name": "ipython",
    "version": 3
   },
   "file_extension": ".py",
   "mimetype": "text/x-python",
   "name": "python",
   "nbconvert_exporter": "python",
   "pygments_lexer": "ipython3",
   "version": "3.7.4"
  }
 },
 "nbformat": 4,
 "nbformat_minor": 4
}
