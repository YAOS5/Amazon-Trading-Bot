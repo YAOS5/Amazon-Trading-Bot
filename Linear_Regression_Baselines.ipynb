{
 "cells": [
  {
   "cell_type": "code",
   "execution_count": 2,
   "metadata": {},
   "outputs": [],
   "source": [
    "import matplotlib.pyplot as plt\n",
    "%matplotlib inline\n",
    "import seaborn as sns\n",
    "import pandas as pd\n",
    "import os\n",
    "import numpy as np\n",
    "\n",
    "from ads_utils import load_data, plot\n",
    "data = load_data([2])"
   ]
  },
  {
   "cell_type": "code",
   "execution_count": 3,
   "metadata": {},
   "outputs": [
    {
     "data": {
      "text/html": [
       "<div>\n",
       "<style scoped>\n",
       "    .dataframe tbody tr th:only-of-type {\n",
       "        vertical-align: middle;\n",
       "    }\n",
       "\n",
       "    .dataframe tbody tr th {\n",
       "        vertical-align: top;\n",
       "    }\n",
       "\n",
       "    .dataframe thead th {\n",
       "        text-align: right;\n",
       "    }\n",
       "</style>\n",
       "<table border=\"1\" class=\"dataframe\">\n",
       "  <thead>\n",
       "    <tr style=\"text-align: right;\">\n",
       "      <th></th>\n",
       "      <th>time</th>\n",
       "      <th>close</th>\n",
       "      <th>volume</th>\n",
       "    </tr>\n",
       "  </thead>\n",
       "  <tbody>\n",
       "    <tr>\n",
       "      <th>0</th>\n",
       "      <td>2020-08-03 04:02:00</td>\n",
       "      <td>3180.01</td>\n",
       "      <td>513</td>\n",
       "    </tr>\n",
       "    <tr>\n",
       "      <th>1</th>\n",
       "      <td>2020-08-03 04:05:00</td>\n",
       "      <td>3182.91</td>\n",
       "      <td>403</td>\n",
       "    </tr>\n",
       "    <tr>\n",
       "      <th>2</th>\n",
       "      <td>2020-08-03 04:13:00</td>\n",
       "      <td>3180.00</td>\n",
       "      <td>577</td>\n",
       "    </tr>\n",
       "    <tr>\n",
       "      <th>3</th>\n",
       "      <td>2020-08-03 04:21:00</td>\n",
       "      <td>3179.74</td>\n",
       "      <td>328</td>\n",
       "    </tr>\n",
       "    <tr>\n",
       "      <th>4</th>\n",
       "      <td>2020-08-03 04:25:00</td>\n",
       "      <td>3179.95</td>\n",
       "      <td>704</td>\n",
       "    </tr>\n",
       "    <tr>\n",
       "      <th>...</th>\n",
       "      <td>...</td>\n",
       "      <td>...</td>\n",
       "      <td>...</td>\n",
       "    </tr>\n",
       "    <tr>\n",
       "      <th>9508</th>\n",
       "      <td>2020-08-28 19:09:00</td>\n",
       "      <td>3402.07</td>\n",
       "      <td>251</td>\n",
       "    </tr>\n",
       "    <tr>\n",
       "      <th>9509</th>\n",
       "      <td>2020-08-28 19:14:00</td>\n",
       "      <td>3403.00</td>\n",
       "      <td>228</td>\n",
       "    </tr>\n",
       "    <tr>\n",
       "      <th>9510</th>\n",
       "      <td>2020-08-28 19:38:00</td>\n",
       "      <td>3402.00</td>\n",
       "      <td>200</td>\n",
       "    </tr>\n",
       "    <tr>\n",
       "      <th>9511</th>\n",
       "      <td>2020-08-28 19:59:00</td>\n",
       "      <td>3402.00</td>\n",
       "      <td>610</td>\n",
       "    </tr>\n",
       "    <tr>\n",
       "      <th>9512</th>\n",
       "      <td>2020-08-28 20:00:00</td>\n",
       "      <td>3401.80</td>\n",
       "      <td>167</td>\n",
       "    </tr>\n",
       "  </tbody>\n",
       "</table>\n",
       "<p>9513 rows × 3 columns</p>\n",
       "</div>"
      ],
      "text/plain": [
       "                    time    close  volume\n",
       "0    2020-08-03 04:02:00  3180.01     513\n",
       "1    2020-08-03 04:05:00  3182.91     403\n",
       "2    2020-08-03 04:13:00  3180.00     577\n",
       "3    2020-08-03 04:21:00  3179.74     328\n",
       "4    2020-08-03 04:25:00  3179.95     704\n",
       "...                  ...      ...     ...\n",
       "9508 2020-08-28 19:09:00  3402.07     251\n",
       "9509 2020-08-28 19:14:00  3403.00     228\n",
       "9510 2020-08-28 19:38:00  3402.00     200\n",
       "9511 2020-08-28 19:59:00  3402.00     610\n",
       "9512 2020-08-28 20:00:00  3401.80     167\n",
       "\n",
       "[9513 rows x 3 columns]"
      ]
     },
     "execution_count": 3,
     "metadata": {},
     "output_type": "execute_result"
    }
   ],
   "source": [
    "data"
   ]
  },
  {
   "cell_type": "code",
   "execution_count": 10,
   "metadata": {},
   "outputs": [],
   "source": [
    "import statsmodels.api as sm\n",
    "from statsmodels.tsa.ar_model import AutoReg\n",
    "from statsmodels.tsa.ar_model import AR\n",
    "import numpy as np"
   ]
  },
  {
   "cell_type": "code",
   "execution_count": 5,
   "metadata": {},
   "outputs": [],
   "source": [
    "res = AutoReg(data.close, lags = 1).fit()"
   ]
  },
  {
   "cell_type": "code",
   "execution_count": 14,
   "metadata": {},
   "outputs": [
    {
     "name": "stdout",
     "output_type": "stream",
     "text": [
      "                            AutoReg Model Results                             \n",
      "==============================================================================\n",
      "Dep. Variable:                  close   No. Observations:                 9513\n",
      "Model:                     AutoReg(1)   Log Likelihood              -23239.173\n",
      "Method:               Conditional MLE   S.D. of innovations              2.785\n",
      "Date:                Sat, 03 Oct 2020   AIC                              2.049\n",
      "Time:                        03:05:15   BIC                              2.051\n",
      "Sample:                             1   HQIC                             2.050\n",
      "                                 9513                                         \n",
      "==============================================================================\n",
      "                 coef    std err          z      P>|z|      [0.025      0.975]\n",
      "------------------------------------------------------------------------------\n",
      "intercept      0.9080      0.937      0.969      0.333      -0.929       2.745\n",
      "close.L1       0.9997      0.000   3456.125      0.000       0.999       1.000\n",
      "                                    Roots                                    \n",
      "=============================================================================\n",
      "                  Real          Imaginary           Modulus         Frequency\n",
      "-----------------------------------------------------------------------------\n",
      "AR.1            1.0003           +0.0000j            1.0003            0.0000\n",
      "-----------------------------------------------------------------------------\n"
     ]
    }
   ],
   "source": [
    "print(res.summary())"
   ]
  },
  {
   "cell_type": "code",
   "execution_count": 8,
   "metadata": {},
   "outputs": [
    {
     "data": {
      "text/plain": [
       "intercept    0.907961\n",
       "close.L1     0.999727\n",
       "dtype: float64"
      ]
     },
     "execution_count": 8,
     "metadata": {},
     "output_type": "execute_result"
    }
   ],
   "source": [
    "res.params"
   ]
  },
  {
   "cell_type": "code",
   "execution_count": 13,
   "metadata": {},
   "outputs": [],
   "source": [
    "res = AutoReg(data.close, lags = 1).fit()"
   ]
  },
  {
   "cell_type": "code",
   "execution_count": 16,
   "metadata": {},
   "outputs": [],
   "source": [
    "mdl = AR(data.close).fit(maxlag=30,ic=\"aic\",trend=\"c\")"
   ]
  },
  {
   "cell_type": "code",
   "execution_count": 17,
   "metadata": {},
   "outputs": [
    {
     "data": {
      "text/plain": [
       "const       0.650978\n",
       "L1.close    0.923368\n",
       "L2.close    0.031175\n",
       "L3.close    0.021309\n",
       "L4.close    0.002689\n",
       "L5.close    0.021266\n",
       "dtype: float64"
      ]
     },
     "execution_count": 17,
     "metadata": {},
     "output_type": "execute_result"
    }
   ],
   "source": [
    "mdl.params"
   ]
  },
  {
   "cell_type": "code",
   "execution_count": 26,
   "metadata": {},
   "outputs": [
    {
     "name": "stdout",
     "output_type": "stream",
     "text": [
      "const       0.650978\n",
      "L1.close    0.923368\n",
      "L2.close    0.031175\n",
      "L3.close    0.021309\n",
      "L4.close    0.002689\n",
      "L5.close    0.021266\n",
      "dtype: float64\n"
     ]
    }
   ],
   "source": [
    "est_order = AR(data.close).select_order(maxlag=30, ic='aic', trend='c')\n",
    "print(mdl.params)"
   ]
  },
  {
   "cell_type": "code",
   "execution_count": null,
   "metadata": {},
   "outputs": [],
   "source": []
  }
 ],
 "metadata": {
  "kernelspec": {
   "display_name": "Python 3",
   "language": "python",
   "name": "python3"
  },
  "language_info": {
   "codemirror_mode": {
    "name": "ipython",
    "version": 3
   },
   "file_extension": ".py",
   "mimetype": "text/x-python",
   "name": "python",
   "nbconvert_exporter": "python",
   "pygments_lexer": "ipython3",
   "version": "3.8.3"
  }
 },
 "nbformat": 4,
 "nbformat_minor": 4
}
