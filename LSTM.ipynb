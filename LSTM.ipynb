{
 "cells": [
  {
   "cell_type": "code",
   "execution_count": 180,
   "metadata": {},
   "outputs": [],
   "source": [
    "#requires tensorflow2\n",
    "import tensorflow as tf\n",
    "import pandas as pd\n",
    "import datetime as dt\n",
    "import matplotlib.pyplot as plt\n",
    "import keras\n",
    "import numpy as np\n",
    "from ads_utils import load_data, plot, Environment"
   ]
  },
  {
   "cell_type": "code",
   "execution_count": 181,
   "metadata": {},
   "outputs": [],
   "source": [
    "INITIAL_BALANCE = 10_000\n",
    "PAST_TICKS = 5\n",
    "        \n",
    "'''NOTE: there is no train/test split yet'''            \n",
    "data = load_data([2])\n",
    "\n",
    "fake = np.linspace(100, 200, len(data))\n",
    "data['close1'] = fake\n",
    "fake = np.linspace(200, 100, len(data))\n",
    "data['close2'] = fake\n",
    "fake = 10*np.sin(np.linspace(0, 3141.592, len(data))/50) + 20\n",
    "data['close3'] = fake\n",
    "fake = 100*np.sin(np.linspace(0, 3141.592, len(data))/50) + np.random.normal(1000, 50, len(data))\n",
    "data['close4'] = fake\n",
    "fake = np.random.normal(1000, 50, len(data))\n",
    "data['close5'] = fake\n",
    "fake = 1000 - np.abs(np.arange(0, len(data)) - len(data)/2) * 0.05\n",
    "data['close6'] = fake\n",
    "fake = np.random.normal(1000, 50, len(data)) - np.abs(np.arange(0, len(data)) - len(data)/2) * 0.05\n",
    "data['close7'] = fake\n",
    "\n",
    "envs = []\n",
    "for col in ['close'] + [f'close{i}' for i in range(1, 8)]:\n",
    "    env = Environment(data[col].to_list(), balance=INITIAL_BALANCE, past_ticks=PAST_TICKS)\n",
    "    envs.append(env)"
   ]
  },
  {
   "cell_type": "code",
   "execution_count": 195,
   "metadata": {},
   "outputs": [],
   "source": [
    "dataset = np.reshape(data['close'].values,(-1,1))"
   ]
  },
  {
   "cell_type": "code",
   "execution_count": 196,
   "metadata": {},
   "outputs": [],
   "source": [
    "scaled_dataset = dataset"
   ]
  },
  {
   "cell_type": "code",
   "execution_count": 197,
   "metadata": {},
   "outputs": [],
   "source": [
    "train= scaled_dataset[:int(scaled_dataset.shape[0]*0.8)]\n",
    "valid = scaled_dataset[int(scaled_dataset.shape[0]*0.8)-60:]"
   ]
  },
  {
   "cell_type": "code",
   "execution_count": 200,
   "metadata": {},
   "outputs": [],
   "source": [
    "#if feature scaling desired\n",
    "from sklearn.preprocessing import MinMaxScaler\n",
    "sc = MinMaxScaler(feature_range = (0, 1))\n"
   ]
  },
  {
   "cell_type": "code",
   "execution_count": 201,
   "metadata": {},
   "outputs": [],
   "source": [
    "train2 = sc.fit_transform(train)"
   ]
  },
  {
   "cell_type": "code",
   "execution_count": 203,
   "metadata": {},
   "outputs": [],
   "source": [
    "valid2 = sc.transform(valid)"
   ]
  },
  {
   "cell_type": "code",
   "execution_count": 205,
   "metadata": {},
   "outputs": [],
   "source": [
    "x_train,y_train,x_test,y_test = [],[],[],[]\n",
    "for i in range(60,train2.shape[0]):\n",
    "    x_train.append(train2[i-60:i,0])\n",
    "    y_train.append(train2[i,0])\n",
    "\n",
    "for z in range(60,valid2.shape[0]):\n",
    "    x_test.append(valid2[z-60:z,0])\n",
    "    y_test.append(valid2[z,0])"
   ]
  },
  {
   "cell_type": "code",
   "execution_count": 206,
   "metadata": {},
   "outputs": [],
   "source": [
    "x_train, y_train,x_test,y_test = np.array(x_train), np.array(y_train),np.array(x_test),np.array(y_test)\n",
    "x_train = np.reshape(x_train, (x_train.shape[0],x_train.shape[1],1))\n",
    "x_test=np.reshape(x_test,(x_test.shape[0],x_test.shape[1],1))"
   ]
  },
  {
   "cell_type": "code",
   "execution_count": 207,
   "metadata": {},
   "outputs": [
    {
     "name": "stdout",
     "output_type": "stream",
     "text": [
      "Epoch 1/50\n",
      "105/105 [==============================] - 10s 99ms/step - loss: 0.0050 - val_loss: 0.0224\n",
      "Epoch 2/50\n",
      "105/105 [==============================] - 9s 85ms/step - loss: 0.0071 - val_loss: 0.0155\n",
      "Epoch 3/50\n",
      "105/105 [==============================] - 12s 112ms/step - loss: 0.0054 - val_loss: 0.0100\n",
      "Epoch 4/50\n",
      "105/105 [==============================] - 10s 98ms/step - loss: 0.0026 - val_loss: 0.0040\n",
      "Epoch 5/50\n",
      "105/105 [==============================] - 14s 136ms/step - loss: 0.0021 - val_loss: 0.0033\n",
      "Epoch 6/50\n",
      "105/105 [==============================] - 13s 120ms/step - loss: 0.0022 - val_loss: 0.0032\n",
      "Epoch 7/50\n",
      "105/105 [==============================] - 11s 104ms/step - loss: 0.0023 - val_loss: 0.0052\n",
      "Epoch 8/50\n",
      "105/105 [==============================] - 11s 105ms/step - loss: 0.0027 - val_loss: 0.0026\n",
      "Epoch 9/50\n",
      "105/105 [==============================] - 9s 87ms/step - loss: 0.0020 - val_loss: 0.0052\n",
      "Epoch 10/50\n",
      "105/105 [==============================] - 9s 83ms/step - loss: 0.0019 - val_loss: 0.0031\n",
      "Epoch 11/50\n",
      "105/105 [==============================] - 9s 84ms/step - loss: 0.0018 - val_loss: 0.0046\n",
      "Epoch 12/50\n",
      "105/105 [==============================] - 9s 83ms/step - loss: 0.0022 - val_loss: 0.0036\n",
      "Epoch 13/50\n",
      "105/105 [==============================] - 9s 84ms/step - loss: 0.0019 - val_loss: 0.0052\n",
      "Epoch 14/50\n",
      "105/105 [==============================] - 9s 86ms/step - loss: 0.0017 - val_loss: 0.0059\n",
      "Epoch 15/50\n",
      "105/105 [==============================] - 9s 88ms/step - loss: 0.0018 - val_loss: 0.0053\n",
      "Epoch 16/50\n",
      "105/105 [==============================] - 9s 85ms/step - loss: 0.0019 - val_loss: 0.0047\n",
      "Epoch 17/50\n",
      "105/105 [==============================] - 9s 90ms/step - loss: 0.0017 - val_loss: 0.0047\n",
      "Epoch 18/50\n",
      "105/105 [==============================] - 9s 87ms/step - loss: 0.0019 - val_loss: 0.0048\n",
      "Epoch 19/50\n",
      "105/105 [==============================] - 9s 86ms/step - loss: 0.0015 - val_loss: 0.0039\n",
      "Epoch 20/50\n",
      "105/105 [==============================] - 9s 90ms/step - loss: 0.0015 - val_loss: 0.0043\n",
      "Epoch 21/50\n",
      "105/105 [==============================] - 9s 84ms/step - loss: 0.0014 - val_loss: 0.0038\n",
      "Epoch 22/50\n",
      "105/105 [==============================] - 9s 82ms/step - loss: 0.0015 - val_loss: 0.0022\n",
      "Epoch 23/50\n",
      "105/105 [==============================] - 9s 82ms/step - loss: 0.0014 - val_loss: 0.0027\n",
      "Epoch 24/50\n",
      "105/105 [==============================] - 9s 85ms/step - loss: 0.0014 - val_loss: 0.0044\n",
      "Epoch 25/50\n",
      "105/105 [==============================] - 9s 83ms/step - loss: 0.0013 - val_loss: 0.0047\n",
      "Epoch 26/50\n",
      "105/105 [==============================] - 9s 84ms/step - loss: 0.0014 - val_loss: 0.0033\n",
      "Epoch 27/50\n",
      "105/105 [==============================] - 9s 83ms/step - loss: 0.0013 - val_loss: 0.0043\n",
      "Epoch 28/50\n",
      "105/105 [==============================] - 9s 84ms/step - loss: 0.0013 - val_loss: 0.0038\n",
      "Epoch 29/50\n",
      "105/105 [==============================] - 9s 87ms/step - loss: 0.0012 - val_loss: 0.0047\n",
      "Epoch 30/50\n",
      "105/105 [==============================] - 9s 86ms/step - loss: 0.0013 - val_loss: 0.0026\n",
      "Epoch 31/50\n",
      "105/105 [==============================] - 10s 92ms/step - loss: 0.0011 - val_loss: 0.0026\n",
      "Epoch 32/50\n",
      "105/105 [==============================] - 9s 82ms/step - loss: 0.0012 - val_loss: 0.0023\n",
      "Epoch 33/50\n",
      "105/105 [==============================] - 10s 92ms/step - loss: 0.0011 - val_loss: 0.0032\n",
      "Epoch 34/50\n",
      "105/105 [==============================] - 9s 90ms/step - loss: 0.0012 - val_loss: 0.0044\n",
      "Epoch 35/50\n",
      "105/105 [==============================] - 9s 89ms/step - loss: 0.0011 - val_loss: 0.0025\n",
      "Epoch 36/50\n",
      "105/105 [==============================] - 10s 92ms/step - loss: 0.0011 - val_loss: 0.0029\n",
      "Epoch 37/50\n",
      "105/105 [==============================] - 10s 92ms/step - loss: 0.0010 - val_loss: 0.0035\n",
      "Epoch 38/50\n",
      "105/105 [==============================] - 9s 89ms/step - loss: 9.9876e-04 - val_loss: 0.0037\n",
      "Epoch 39/50\n",
      "105/105 [==============================] - 9s 88ms/step - loss: 0.0011 - val_loss: 0.0021\n",
      "Epoch 40/50\n",
      "105/105 [==============================] - 10s 93ms/step - loss: 9.5630e-04 - val_loss: 0.0026\n",
      "Epoch 41/50\n",
      "105/105 [==============================] - 9s 85ms/step - loss: 9.6618e-04 - val_loss: 0.0022\n",
      "Epoch 42/50\n",
      "105/105 [==============================] - 9s 83ms/step - loss: 9.5649e-04 - val_loss: 0.0016\n",
      "Epoch 43/50\n",
      "105/105 [==============================] - 9s 81ms/step - loss: 8.4995e-04 - val_loss: 0.0019\n",
      "Epoch 44/50\n",
      "105/105 [==============================] - 9s 88ms/step - loss: 0.0010 - val_loss: 0.0025\n",
      "Epoch 45/50\n",
      "105/105 [==============================] - 9s 82ms/step - loss: 8.5603e-04 - val_loss: 0.0020\n",
      "Epoch 46/50\n",
      "105/105 [==============================] - 8s 81ms/step - loss: 9.0313e-04 - val_loss: 0.0031\n",
      "Epoch 47/50\n",
      "105/105 [==============================] - 9s 87ms/step - loss: 8.6899e-04 - val_loss: 0.0025\n",
      "Epoch 48/50\n",
      "105/105 [==============================] - 9s 83ms/step - loss: 8.3507e-04 - val_loss: 0.0024\n",
      "Epoch 49/50\n",
      "105/105 [==============================] - 9s 83ms/step - loss: 8.7746e-04 - val_loss: 0.0011\n",
      "Epoch 50/50\n",
      "105/105 [==============================] - 8s 81ms/step - loss: 7.6842e-04 - val_loss: 0.0025\n"
     ]
    },
    {
     "data": {
      "image/png": "[encoded data removed]",
      "text/plain": [
       "<Figure size 432x288 with 1 Axes>"
      ]
     },
     "metadata": {
      "needs_background": "light"
     },
     "output_type": "display_data"
    }
   ],
   "source": [
    "from keras.models import Sequential\n",
    "from keras.layers import Dense, Dropout,LSTM\n",
    "from keras.optimizers import Adam\n",
    "model = Sequential()\n",
    "model.add(LSTM(units=100,input_shape=(x_train.shape[1],1),return_sequences=True))\n",
    "model.add(LSTM(units=100))\n",
    "model.add(Dropout(0.4))\n",
    "model.add(Dense(1))\n",
    "ADAM = Adam(0.0005, beta_1=0.9, beta_2=0.999, amsgrad=False)\n",
    "model.compile(loss='mean_squared_error', optimizer=ADAM)\n",
    "history = model.fit(x_train,y_train,epochs=50,batch_size=72,validation_data=(x_test,y_test),verbose=1,shuffle=False)\n",
    "plt.plot(history.history['loss'], label='train')\n",
    "plt.plot(history.history['val_loss'], label='test')\n",
    "plt.legend()\n",
    "plt.show()"
   ]
  },
  {
   "cell_type": "code",
   "execution_count": 208,
   "metadata": {},
   "outputs": [],
   "source": [
    "predicted_stock_price = sc.inverse_transform(model.predict(x_test))"
   ]
  },
  {
   "cell_type": "code",
   "execution_count": 211,
   "metadata": {},
   "outputs": [],
   "source": [
    "actual_stock_price = sc.inverse_transform(y_test.reshape((-1,1)))"
   ]
  },
  {
   "cell_type": "code",
   "execution_count": 214,
   "metadata": {},
   "outputs": [
    {
     "data": {
      "image/png": "[encoded data removed]",
      "text/plain": [
       "<Figure size 432x288 with 1 Axes>"
      ]
     },
     "metadata": {
      "needs_background": "light"
     },
     "output_type": "display_data"
    }
   ],
   "source": [
    "plt.plot(predicted_stock_price)\n",
    "plt.plot(actual_stock_price)\n",
    "plt.show()"
   ]
  },
  {
   "cell_type": "code",
   "execution_count": 215,
   "metadata": {},
   "outputs": [],
   "source": [
    "#computing profitability"
   ]
  },
  {
   "cell_type": "code",
   "execution_count": 217,
   "metadata": {},
   "outputs": [],
   "source": [
    "balance = INITIAL_BALANCE\n",
    "for i in range(1,len(predicted_stock_price)):\n",
    "    if predicted_stock_price[i]>actual_stock_price[i-1]:\n",
    "        #go long\n",
    "        balance += actual_stock_price[i]-actual_stock_price[i-1]\n",
    "    else:\n",
    "        #go short\n",
    "        balance += actual_stock_price[i-1]-actual_stock_price[i]"
   ]
  },
  {
   "cell_type": "code",
   "execution_count": 218,
   "metadata": {},
   "outputs": [
    {
     "data": {
      "text/plain": [
       "array([9964.382])"
      ]
     },
     "execution_count": 218,
     "metadata": {},
     "output_type": "execute_result"
    }
   ],
   "source": [
    "balance"
   ]
  }
 ],
 "metadata": {
  "kernelspec": {
   "display_name": "Python 3",
   "language": "python",
   "name": "python3"
  },
  "language_info": {
   "codemirror_mode": {
    "name": "ipython",
    "version": 3
   },
   "file_extension": ".py",
   "mimetype": "text/x-python",
   "name": "python",
   "nbconvert_exporter": "python",
   "pygments_lexer": "ipython3",
   "version": "3.8.5"
  }
 },
 "nbformat": 4,
 "nbformat_minor": 4
}
