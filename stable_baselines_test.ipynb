{
 "cells": [
  {
   "cell_type": "code",
   "execution_count": 11,
   "metadata": {
    "ExecuteTime": {
     "end_time": "2020-10-02T01:12:34.157706Z",
     "start_time": "2020-10-02T01:12:34.153611Z"
    }
   },
   "outputs": [],
   "source": [
    "import tensorflow as tf\n",
    "import pandas as pd\n",
    "import datetime as dt\n",
    "import matplotlib.pyplot as plt\n",
    "\n",
    "import gym\n",
    "from gym import spaces\n",
    "from gym.utils import seeding\n",
    "from stable_baselines.common.env_checker import check_env\n",
    "# from stable_baselines import PPO2\n",
    "from stable_baselines.common.policies import MlpPolicy\n",
    "\n",
    "import numpy as np\n",
    "from ads_utils import load_data, plot, Environment\n",
    "\n",
    "from tqdm import tqdm"
   ]
  },
  {
   "cell_type": "markdown",
   "metadata": {},
   "source": [
    "https://github.com/notadamking/Stock-Trading-Environment/blob/master/env/StockTradingEnv.py\n",
    "The code follows some of this implementation. \n"
   ]
  },
  {
   "cell_type": "code",
   "execution_count": 12,
   "metadata": {
    "ExecuteTime": {
     "end_time": "2020-10-02T01:12:36.344275Z",
     "start_time": "2020-10-02T01:12:36.313443Z"
    }
   },
   "outputs": [
    {
     "data": {
      "text/plain": [
       "Balance: $1000000, Price: $100.05, Position: 1"
      ]
     },
     "execution_count": 12,
     "metadata": {},
     "output_type": "execute_result"
    }
   ],
   "source": [
    "INITIAL_BALANCE = 1_000_000\n",
    "PAST_DAYS = 5\n",
    "        \n",
    "'''NOTE: there is no train/test split yet'''            \n",
    "data = load_data([2])\n",
    "\n",
    "fake = np.linspace(100, 200, len(data))\n",
    "data['close'] = fake\n",
    "\n",
    "env = Environment(data.close.to_list(), balance=INITIAL_BALANCE, past_days=PAST_DAYS)\n",
    "env"
   ]
  },
  {
   "cell_type": "code",
   "execution_count": null,
   "metadata": {
    "ExecuteTime": {
     "end_time": "2020-10-02T01:06:00.239085Z",
     "start_time": "2020-10-02T01:05:59.009Z"
    }
   },
   "outputs": [],
   "source": [
    "# It will check your custom environment and output additional warnings if needed\n",
    "check_env(env)\n",
    "env.reset()"
   ]
  },
  {
   "cell_type": "markdown",
   "metadata": {},
   "source": [
    "The model used is PPO2 \n",
    "\n",
    "#### Short excerpt from docs: \n",
    "The Proximal Policy Optimization (PPO) algorithm combines ideas from A2C (having multiple workers) and TRPO (it uses a trust region to improve the actor).\n",
    "\n",
    "#### Link to doc:\n",
    "https://stable-baselines.readthedocs.io/en/master/modules/ppo2.html\n",
    "\n",
    "* there's other actor-critic based models to implement as well\n"
   ]
  },
  {
   "cell_type": "markdown",
   "metadata": {},
   "source": [
    "PS: I have yet to know how to interpret the results below"
   ]
  },
  {
   "cell_type": "code",
   "execution_count": 15,
   "metadata": {
    "ExecuteTime": {
     "end_time": "2020-10-01T07:05:56.346107Z",
     "start_time": "2020-10-01T07:05:56.323104Z"
    },
    "scrolled": true
   },
   "outputs": [
    {
     "ename": "NameError",
     "evalue": "name 'PPO2' is not defined",
     "output_type": "error",
     "traceback": [
      "\u001b[0;31m---------------------------------------------------------------------------\u001b[0m",
      "\u001b[0;31mNameError\u001b[0m                                 Traceback (most recent call last)",
      "\u001b[0;32m<ipython-input-15-74a4d3a5ab5e>\u001b[0m in \u001b[0;36m<module>\u001b[0;34m\u001b[0m\n\u001b[0;32m----> 1\u001b[0;31m \u001b[0mmodel\u001b[0m \u001b[0;34m=\u001b[0m \u001b[0mPPO2\u001b[0m\u001b[0;34m(\u001b[0m\u001b[0mMlpPolicy\u001b[0m\u001b[0;34m,\u001b[0m \u001b[0menv\u001b[0m\u001b[0;34m,\u001b[0m \u001b[0mverbose\u001b[0m\u001b[0;34m=\u001b[0m\u001b[0;36m1\u001b[0m\u001b[0;34m)\u001b[0m\u001b[0;34m\u001b[0m\u001b[0;34m\u001b[0m\u001b[0m\n\u001b[0m\u001b[1;32m      2\u001b[0m \u001b[0;34m\u001b[0m\u001b[0m\n\u001b[1;32m      3\u001b[0m \u001b[0mmodel\u001b[0m\u001b[0;34m.\u001b[0m\u001b[0mlearn\u001b[0m\u001b[0;34m(\u001b[0m\u001b[0mtotal_timesteps\u001b[0m\u001b[0;34m=\u001b[0m\u001b[0;36m1000\u001b[0m\u001b[0;34m)\u001b[0m\u001b[0;34m\u001b[0m\u001b[0;34m\u001b[0m\u001b[0m\n",
      "\u001b[0;31mNameError\u001b[0m: name 'PPO2' is not defined"
     ]
    }
   ],
   "source": [
    "model = PPO2(MlpPolicy, env, verbose=1)\n",
    "\n",
    "model.learn(total_timesteps=1000) "
   ]
  },
  {
   "cell_type": "code",
   "execution_count": 5,
   "metadata": {
    "ExecuteTime": {
     "end_time": "2020-10-02T01:00:28.623265Z",
     "start_time": "2020-10-02T01:00:28.582105Z"
    }
   },
   "outputs": [
    {
     "name": "stderr",
     "output_type": "stream",
     "text": [
      "  0%|          | 0/10000 [00:00<?, ?it/s]\n"
     ]
    },
    {
     "ename": "NameError",
     "evalue": "name 'model' is not defined",
     "output_type": "error",
     "traceback": [
      "\u001b[0;31m---------------------------------------------------------------------------\u001b[0m",
      "\u001b[0;31mNameError\u001b[0m                                 Traceback (most recent call last)",
      "\u001b[0;32m<ipython-input-5-4fcfbdab63eb>\u001b[0m in \u001b[0;36m<module>\u001b[0;34m\u001b[0m\n\u001b[1;32m      7\u001b[0m \u001b[0mactions\u001b[0m \u001b[0;34m=\u001b[0m \u001b[0;34m[\u001b[0m\u001b[0;34m]\u001b[0m\u001b[0;34m\u001b[0m\u001b[0;34m\u001b[0m\u001b[0m\n\u001b[1;32m      8\u001b[0m \u001b[0;32mfor\u001b[0m \u001b[0mi\u001b[0m \u001b[0;32min\u001b[0m \u001b[0mtqdm\u001b[0m\u001b[0;34m(\u001b[0m\u001b[0mrange\u001b[0m\u001b[0;34m(\u001b[0m\u001b[0;36m10000\u001b[0m\u001b[0;34m)\u001b[0m\u001b[0;34m)\u001b[0m\u001b[0;34m:\u001b[0m\u001b[0;34m\u001b[0m\u001b[0;34m\u001b[0m\u001b[0m\n\u001b[0;32m----> 9\u001b[0;31m     \u001b[0maction\u001b[0m\u001b[0;34m,\u001b[0m \u001b[0m_states\u001b[0m \u001b[0;34m=\u001b[0m \u001b[0mmodel\u001b[0m\u001b[0;34m.\u001b[0m\u001b[0mpredict\u001b[0m\u001b[0;34m(\u001b[0m\u001b[0mobs\u001b[0m\u001b[0;34m)\u001b[0m\u001b[0;34m\u001b[0m\u001b[0;34m\u001b[0m\u001b[0m\n\u001b[0m\u001b[1;32m     10\u001b[0m \u001b[0;34m\u001b[0m\u001b[0m\n\u001b[1;32m     11\u001b[0m     \u001b[0mobs\u001b[0m\u001b[0;34m,\u001b[0m \u001b[0mreward\u001b[0m\u001b[0;34m,\u001b[0m \u001b[0mdone\u001b[0m\u001b[0;34m,\u001b[0m \u001b[0m_\u001b[0m \u001b[0;34m=\u001b[0m \u001b[0menv\u001b[0m\u001b[0;34m.\u001b[0m\u001b[0mstep\u001b[0m\u001b[0;34m(\u001b[0m\u001b[0maction\u001b[0m\u001b[0;34m)\u001b[0m\u001b[0;34m\u001b[0m\u001b[0;34m\u001b[0m\u001b[0m\n",
      "\u001b[0;31mNameError\u001b[0m: name 'model' is not defined"
     ]
    }
   ],
   "source": [
    "obs = env.reset()\n",
    "#env = Environment(test_data, INITIAL_BALANCE)\n",
    "\n",
    "prices = []\n",
    "balances = []\n",
    "rewards = []\n",
    "actions = []\n",
    "for i in tqdm(range(10000)):\n",
    "    action, _states = model.predict(obs)\n",
    "    \n",
    "    obs, reward, done, _ = env.step(action)\n",
    "    \n",
    "    actions.append(action)\n",
    "    rewards.append(reward)\n",
    "    balances.append(obs[-2])\n",
    "\n",
    "    prices.append(obs[PAST_DAYS-1]) # current timestep's closing price\n",
    "    env.save_portfolio()\n",
    "    \n",
    "    if done:\n",
    "        break\n",
    "        \n",
    "portfolio_values = np.array(balances) + (np.array(actions) - 1) * np.array(prices)\n",
    "\n",
    "plot(prices, actions, portfolio_values[-10000:], right_y_adjust=1.1)"
   ]
  },
  {
   "cell_type": "markdown",
   "metadata": {},
   "source": [
    "\n",
    "- sometimes, the portfolio values goes to negative :OOOO"
   ]
  },
  {
   "cell_type": "code",
   "execution_count": 1,
   "metadata": {
    "ExecuteTime": {
     "end_time": "2020-10-02T01:10:11.624379Z",
     "start_time": "2020-10-02T01:10:08.186838Z"
    }
   },
   "outputs": [],
   "source": [
    "# Use weights and biases for hyperparameter tuning\n",
    "import wandb\n",
    "from wandb.keras import WandbCallback"
   ]
  },
  {
   "cell_type": "code",
   "execution_count": null,
   "metadata": {},
   "outputs": [],
   "source": []
  },
  {
   "cell_type": "code",
   "execution_count": 3,
   "metadata": {
    "ExecuteTime": {
     "end_time": "2020-10-02T01:12:00.515678Z",
     "start_time": "2020-10-02T01:11:56.310241Z"
    }
   },
   "outputs": [
    {
     "name": "stderr",
     "output_type": "stream",
     "text": [
      "\u001b[34m\u001b[1mwandb\u001b[0m: \u001b[33mWARNING\u001b[0m Calling wandb.login() after wandb.init() has no effect.\n"
     ]
    },
    {
     "data": {
      "text/html": [
       "<br/>Waiting for W&B process to finish, PID 37025<br/>Program ended successfully."
      ],
      "text/plain": [
       "<IPython.core.display.HTML object>"
      ]
     },
     "metadata": {},
     "output_type": "display_data"
    },
    {
     "data": {
      "application/vnd.jupyter.widget-view+json": {
       "model_id": "",
       "version_major": 2,
       "version_minor": 0
      },
      "text/plain": [
       "VBox(children=(Label(value=' 0.00MB of 0.00MB uploaded (0.00MB deduped)\\r'), FloatProgress(value=1.0, max=1.0)…"
      ]
     },
     "metadata": {},
     "output_type": "display_data"
    },
    {
     "data": {
      "text/html": [
       "Find user logs for this run at: <code>wandb/run-20201002_111012-numh18y4/logs/debug.log</code>"
      ],
      "text/plain": [
       "<IPython.core.display.HTML object>"
      ]
     },
     "metadata": {},
     "output_type": "display_data"
    },
    {
     "data": {
      "text/html": [
       "Find internal logs for this run at: <code>wandb/run-20201002_111012-numh18y4/logs/debug-internal.log</code>"
      ],
      "text/plain": [
       "<IPython.core.display.HTML object>"
      ]
     },
     "metadata": {},
     "output_type": "display_data"
    },
    {
     "data": {
      "text/html": [
       "Synced 5 W&B file(s), 0 media file(s), 0 artifact file(s) and 0 other file(s)"
      ],
      "text/plain": [
       "<IPython.core.display.HTML object>"
      ]
     },
     "metadata": {},
     "output_type": "display_data"
    },
    {
     "data": {
      "text/html": [
       "\n",
       "                    <br/>Synced <strong style=\"color:#cdcd00\">rare-snow-5</strong>: <a href=\"https://wandb.ai/ads/ADS-DQN/runs/numh18y4\" target=\"_blank\">https://wandb.ai/ads/ADS-DQN/runs/numh18y4</a><br/>\n",
       "                "
      ],
      "text/plain": [
       "<IPython.core.display.HTML object>"
      ]
     },
     "metadata": {},
     "output_type": "display_data"
    },
    {
     "data": {
      "text/html": [
       "\n",
       "                Tracking run with wandb version 0.10.4<br/>\n",
       "                Syncing run <strong style=\"color:#cdcd00\">kind-oath-6</strong> to <a href=\"https://wandb.ai\" target=\"_blank\">Weights & Biases</a> <a href=\"https://docs.wandb.com/integrations/jupyter.html\" target=\"_blank\">(Documentation)</a>.<br/>\n",
       "                Project page: <a href=\"https://wandb.ai/ads/dqn\" target=\"_blank\">https://wandb.ai/ads/dqn</a><br/>\n",
       "                Run page: <a href=\"https://wandb.ai/ads/dqn/runs/3kfi3ewn\" target=\"_blank\">https://wandb.ai/ads/dqn/runs/3kfi3ewn</a><br/>\n",
       "                Run data is saved locally in <code>wandb/run-20201002_111156-3kfi3ewn</code><br/><br/>\n",
       "            "
      ],
      "text/plain": [
       "<IPython.core.display.HTML object>"
      ]
     },
     "metadata": {},
     "output_type": "display_data"
    }
   ],
   "source": [
    "wandb.init(project=\"DQN\")\n",
    "config = wandb.config \n",
    "config.epsilon_decay = .996"
   ]
  },
  {
   "cell_type": "code",
   "execution_count": 13,
   "metadata": {
    "ExecuteTime": {
     "end_time": "2020-10-02T01:12:43.581009Z",
     "start_time": "2020-10-02T01:12:43.557404Z"
    }
   },
   "outputs": [],
   "source": [
    "import gym\n",
    "import random\n",
    "from keras import Sequential\n",
    "from collections import deque\n",
    "from keras.layers import Dense\n",
    "from keras.optimizers import Adam\n",
    "import matplotlib.pyplot as plt\n",
    "from keras.activations import relu, linear\n",
    "\n",
    "import numpy as np\n",
    "env = Environment(data.close.to_list(), INITIAL_BALANCE)\n",
    "env.seed(0)\n",
    "np.random.seed(0)\n",
    "\n",
    "class DQN:\n",
    "\n",
    "    \"\"\" Implementation of deep q learning algorithm \"\"\"\n",
    "\n",
    "    def __init__(self, action_space, state_space):\n",
    "\n",
    "        self.action_space = action_space\n",
    "        self.state_space = state_space\n",
    "        self.epsilon = 1.0\n",
    "        self.gamma = .99\n",
    "        self.batch_size = 64\n",
    "        self.epsilon_min = .01\n",
    "        self.lr = 0.001\n",
    "        self.epsilon_decay = .996\n",
    "        self.memory = deque(maxlen=100)\n",
    "        self.model = self.build_model()\n",
    "\n",
    "    def build_model(self):\n",
    "\n",
    "        model = Sequential()\n",
    "        model.add(Dense(150, input_dim=self.state_space, activation=relu))\n",
    "        model.add(Dense(120, activation=relu))\n",
    "        model.add(Dense(self.action_space, activation=linear))\n",
    "        model.compile(loss='mse', optimizer=Adam(lr=self.lr))\n",
    "        return model\n",
    "\n",
    "    def remember(self, state, action, reward, next_state, done):\n",
    "        self.memory.append((state, action, reward, next_state, done))\n",
    "\n",
    "    def get_action(self, state, exploit=False):\n",
    "\n",
    "        if np.random.rand() + int(exploit) <= self.epsilon:\n",
    "            return random.randrange(self.action_space)\n",
    "        action_values = self.model.predict(state)\n",
    "        return np.argmax(action_values[0])\n",
    "\n",
    "    def replay(self):\n",
    "\n",
    "        if len(self.memory) < self.batch_size:\n",
    "            return\n",
    "\n",
    "        minibatch = random.sample(self.memory, self.batch_size)\n",
    "        states = np.array([i[0] for i in minibatch])\n",
    "        actions = np.array([i[1] for i in minibatch])\n",
    "        rewards = np.array([i[2] for i in minibatch])\n",
    "        next_states = np.array([i[3] for i in minibatch])\n",
    "        dones = np.array([i[4] for i in minibatch])\n",
    "\n",
    "        states = np.squeeze(states)\n",
    "        next_states = np.squeeze(next_states)\n",
    "\n",
    "        targets = rewards + self.gamma*(np.amax(self.model.predict_on_batch(next_states), axis=1))*(1-dones)\n",
    "        targets_full = self.model.predict_on_batch(states)\n",
    "        ind = np.array([i for i in range(self.batch_size)])\n",
    "        targets_full[[ind], [actions]] = targets\n",
    "\n",
    "        self.model.fit(states, targets_full, epochs=1, verbose=0, callbacks=[WandbCallback()])\n",
    "        if self.epsilon > self.epsilon_min:\n",
    "            self.epsilon *= self.epsilon_decay\n",
    "\n",
    "\n",
    "def train_dqn(agent, env, episodes):\n",
    "\n",
    "    rewards = []\n",
    "    for e in tqdm(range(episodes)):\n",
    "        state = env.reset()\n",
    "        state = np.reshape(state, (1, 7))\n",
    "        score = 0\n",
    "        max_steps = 300\n",
    "        for i in range(max_steps):\n",
    "            action = agent.get_action(state)\n",
    "            next_state, reward, done, _ = env.step(action)\n",
    "            score += reward\n",
    "            next_state = np.reshape(next_state, (1, 7))\n",
    "            agent.remember(state, action, reward, next_state, done)\n",
    "            state = next_state\n",
    "            agent.replay()\n",
    "            if done:\n",
    "                #print(\"episode: {}/{}, score: {}\".format(e, episodes, score))\n",
    "                break\n",
    "        rewards.append(score)\n",
    "        # You can log whatever attributes you want and see a plot in W&B!\n",
    "        wandb.log({'score': score})\n",
    "\n",
    "    return rewards"
   ]
  },
  {
   "cell_type": "code",
   "execution_count": null,
   "metadata": {
    "ExecuteTime": {
     "start_time": "2020-10-02T01:13:13.706Z"
    }
   },
   "outputs": [
    {
     "name": "stderr",
     "output_type": "stream",
     "text": [
      "\r",
      "  0%|          | 0/10 [00:00<?, ?it/s]"
     ]
    },
    {
     "name": "stdout",
     "output_type": "stream",
     "text": [
      "Box(0.0, inf, (7,), float32)\n",
      "Discrete(3)\n"
     ]
    },
    {
     "name": "stderr",
     "output_type": "stream",
     "text": [
      " 90%|█████████ | 9/10 [02:39<00:18, 18.06s/it]"
     ]
    }
   ],
   "source": [
    "from tqdm import tqdm\n",
    "print(env.observation_space)\n",
    "print(env.action_space)\n",
    "episodes = 10\n",
    "agent = DQN(env.action_space.n, env.observation_space.shape[0])\n",
    "rewards = train_dqn(agent, env, episodes)\n",
    "plt.plot(np.arange(0, len(loss)), rewards)\n",
    "plt.show()"
   ]
  },
  {
   "cell_type": "code",
   "execution_count": 20,
   "metadata": {
    "ExecuteTime": {
     "end_time": "2020-10-01T07:23:28.037953Z",
     "start_time": "2020-10-01T07:17:49.240599Z"
    }
   },
   "outputs": [
    {
     "name": "stderr",
     "output_type": "stream",
     "text": [
      "100%|█████████▉| 9961/10000 [05:38<00:01, 29.44it/s]\n"
     ]
    },
    {
     "data": {
      "image/png": "[encoded data removed]",
      "text/plain": [
       "<Figure size 1296x648 with 2 Axes>"
      ]
     },
     "metadata": {},
     "output_type": "display_data"
    }
   ],
   "source": [
    "state = env.reset()\n",
    "state = np.reshape(state, (1, 7))\n",
    "\n",
    "prices = []\n",
    "balances = []\n",
    "rewards = []\n",
    "actions = []\n",
    "n_ticks = 10000\n",
    "for i in tqdm(range(n_ticks)):\n",
    "    action = agent.get_action(state, exploit=True)\n",
    "    \n",
    "    next_state, reward, done, _ = env.step(action)\n",
    "    \n",
    "    actions.append(action)\n",
    "    rewards.append(reward)\n",
    "    balances.append(next_state[-2])\n",
    "\n",
    "    prices.append(next_state[PAST_DAYS-1]) # current timestep's closing price\n",
    "    env.save_portfolio()\n",
    "    \n",
    "    next_state = np.reshape(next_state, (1, 7))\n",
    "    state = next_state\n",
    "    \n",
    "    if done:\n",
    "        break\n",
    "        \n",
    "portfolio_values = np.array(balances) + (np.array(actions) - 1) * np.array(prices)\n",
    "\n",
    "plot(prices, actions, portfolio_values[-n_ticks:], right_y_adjust=1.1)"
   ]
  },
  {
   "cell_type": "code",
   "execution_count": null,
   "metadata": {
    "ExecuteTime": {
     "end_time": "2020-10-01T07:08:37.886195Z",
     "start_time": "2020-10-01T07:06:21.949Z"
    }
   },
   "outputs": [],
   "source": [
    "fake = np.linspace(200, 100, len(data))\n",
    "data['close'] = fake\n",
    "\n",
    "env = Environment(data.close.to_list(), balance=INITIAL_BALANCE, past_days=PAST_DAYS)\n",
    "agent = DQN(env.action_space.n, env.observation_space.shape[0])\n",
    "loss = train_dqn(agent, env, episodes=100)\n",
    "plt.plot(np.arange(0, len(loss)), loss)\n",
    "plt.show()"
   ]
  },
  {
   "cell_type": "code",
   "execution_count": null,
   "metadata": {
    "ExecuteTime": {
     "end_time": "2020-10-01T07:08:37.887332Z",
     "start_time": "2020-10-01T07:06:22.286Z"
    }
   },
   "outputs": [],
   "source": [
    "state = env.reset()\n",
    "state = np.reshape(state, (1, 7))\n",
    "\n",
    "prices = []\n",
    "balances = []\n",
    "rewards = []\n",
    "actions = []\n",
    "n_ticks = 10000\n",
    "for i in tqdm(range(n_ticks)):\n",
    "    action = agent.get_action(state, exploit=True)\n",
    "    \n",
    "    next_state, reward, done, _ = env.step(action)\n",
    "    \n",
    "    actions.append(action)\n",
    "    rewards.append(reward)\n",
    "    balances.append(next_state[-2])\n",
    "\n",
    "    prices.append(next_state[PAST_DAYS-1]) # current timestep's closing price\n",
    "    env.save_portfolio()\n",
    "    \n",
    "    next_state = np.reshape(next_state, (1, 7))\n",
    "    state = next_state\n",
    "    \n",
    "    if done:\n",
    "        break\n",
    "        \n",
    "portfolio_values = np.array(balances) + (np.array(actions) - 1) * np.array(prices)\n",
    "\n",
    "plot(prices, actions, portfolio_values[-n_ticks:], right_y_adjust=1.1)"
   ]
  },
  {
   "cell_type": "code",
   "execution_count": null,
   "metadata": {
    "ExecuteTime": {
     "end_time": "2020-10-01T07:08:37.888535Z",
     "start_time": "2020-10-01T07:06:22.780Z"
    }
   },
   "outputs": [],
   "source": [
    "fake = np.sin(np.linspace(0, 3141.592, len(data)))\n",
    "data['close'] = fake\n",
    "\n",
    "agent = DQN(env.action_space.n, env.observation_space.shape[0])\n",
    "loss = train_dqn(agent, episodes=100)\n",
    "plt.plot(np.arange(0, len(loss)), loss)\n",
    "plt.show()"
   ]
  },
  {
   "cell_type": "code",
   "execution_count": null,
   "metadata": {},
   "outputs": [],
   "source": [
    "state = env.reset()\n",
    "state = np.reshape(state, (1, 7))\n",
    "\n",
    "prices = []\n",
    "balances = []\n",
    "rewards = []\n",
    "actions = []\n",
    "n_ticks = 10000\n",
    "for i in tqdm(range(n_ticks)):\n",
    "    action = agent.get_action(state)\n",
    "    \n",
    "    next_state, reward, done, _ = env.step(action)\n",
    "    \n",
    "    actions.append(action)\n",
    "    rewards.append(reward)\n",
    "    balances.append(next_state[-2])\n",
    "\n",
    "    prices.append(next_state[PAST_DAYS-1]) # current timestep's closing price\n",
    "    env.save_portfolio()\n",
    "    \n",
    "    next_state = np.reshape(next_state, (1, 7))\n",
    "    state = next_state\n",
    "    \n",
    "    if done:\n",
    "        break\n",
    "        \n",
    "portfolio_values = np.array(balances) + (np.array(actions) - 1) * np.array(prices)\n",
    "\n",
    "plot(prices, actions, portfolio_values[-n_ticks:], right_y_adjust=1.1)"
   ]
  }
 ],
 "metadata": {
  "kernelspec": {
   "display_name": "Python 3",
   "language": "python",
   "name": "python3"
  },
  "language_info": {
   "codemirror_mode": {
    "name": "ipython",
    "version": 3
   },
   "file_extension": ".py",
   "mimetype": "text/x-python",
   "name": "python",
   "nbconvert_exporter": "python",
   "pygments_lexer": "ipython3",
   "version": "3.8.5"
  }
 },
 "nbformat": 4,
 "nbformat_minor": 2
}
