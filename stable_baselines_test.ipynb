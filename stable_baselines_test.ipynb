{
 "cells": [
  {
   "cell_type": "code",
   "execution_count": 3,
   "metadata": {},
   "outputs": [],
   "source": [
    "import tensorflow as tf\n",
    "import pandas as pd\n",
    "import datetime as dt\n",
    "import matplotlib.pyplot as plt\n",
    "\n",
    "import gym\n",
    "from gym import spaces\n",
    "from gym.utils import seeding\n",
    "\n",
    "import numpy as np\n",
    "from ads_utils import load_data, plot"
   ]
  },
  {
   "cell_type": "code",
   "execution_count": 2,
   "metadata": {},
   "outputs": [
    {
     "name": "stdout",
     "output_type": "stream",
     "text": [
      "1.15.0\n"
     ]
    },
    {
     "data": {
      "text/plain": [
       "'Requires this version of tensorflow. I may checkout stable_baselines3 \\n(as it seems to integrate with pytorch instead)'"
      ]
     },
     "execution_count": 2,
     "metadata": {},
     "output_type": "execute_result"
    }
   ],
   "source": [
    "print(tf.__version__)\n",
    "\n",
    "'''Requires this version of tensorflow. I may checkout stable_baselines3 \n",
    "(as it seems to integrate with pytorch instead)'''"
   ]
  },
  {
   "cell_type": "markdown",
   "metadata": {},
   "source": [
    "Using stable_baselines with our data. May need a lot of refactoring.\n",
    "\n",
    "#### LIST OF METHODS\n",
    "__init__:\n",
    "- action_space \n",
    "- observation_space\n",
    "\n",
    "step:\n",
    "- returns observation, reward, done, info\n",
    "- observation: \n",
    "\n",
    "reset:\n",
    "- \"reset\" everything in the environment, eg. balance = INITIAL_BALANCE\n",
    "- returns the next observation_space\n"
   ]
  },
  {
   "cell_type": "markdown",
   "metadata": {},
   "source": [
    "https://github.com/notadamking/Stock-Trading-Environment/blob/master/env/StockTradingEnv.py\n",
    "The code follows some of this implementation. \n"
   ]
  },
  {
   "cell_type": "code",
   "execution_count": 243,
   "metadata": {},
   "outputs": [
    {
     "name": "stdout",
     "output_type": "stream",
     "text": [
      "<Environment instance>\n"
     ]
    }
   ],
   "source": [
    "SELL, HOLD, BUY = -1, 0, 1\n",
    "INITIAL_BALANCE = 10000\n",
    "MAX_ACCOUNT_BALANCE = 2147483647\n",
    "PRICES = 0\n",
    "POSITION = 1\n",
    "BALANCE = 2\n",
    "\n",
    "\n",
    "class Environment(gym.Env):  \n",
    "    # required for stable baselines \n",
    "    metadata = {'render.modes': ['human']}\n",
    "    \n",
    "    def __init__(self, data, balance, transaction_cost=0.001, num_days=5, position=0):\n",
    "        '''Some attributes might be redundant, e.g net_worth'''\n",
    "        \n",
    "        self.current_step = num_days\n",
    "        self.num_days = num_days\n",
    "        \n",
    "        self.done = False\n",
    "        self.data = data\n",
    "        self.position = position\n",
    "        self.transaction_cost = transaction_cost\n",
    "        \n",
    "        # Sell, Hold, Buy == 0, 1, 2 \n",
    "        self.action_space = spaces.Discrete(3)\n",
    "\n",
    "        '''\n",
    "        What do you want the agent to observe?\n",
    "        - closing prices of the last x=5 days\n",
    "        - current balance \n",
    "        - current portfolio value\n",
    "        TOTAL: shape = (7, )\n",
    "        * the values are in [0, inf]'''\n",
    "        self.observation_space = spaces.Box(low=0, high=np.inf, shape = (num_days + 2, ))\n",
    "        \n",
    "    def _next_observation(self):        \n",
    "        '''Getting the next observation'''\n",
    "        \n",
    "        frame = np.array(self.data[self.current_step - 5: self.current_step])\n",
    "        obs = np.append(frame, [self.balance, self.portfolio_value], axis=0)\n",
    "        return obs\n",
    "\n",
    "    def _take_action(self, action):\n",
    "        curr_price = self.data[self.current_step]\n",
    "        \n",
    "        # Perform position transition\n",
    "        self.balance -= curr_price*abs(action - self.position)*self.transaction_cost\n",
    "        \n",
    "        # A Buy\n",
    "        if (action == BUY and self.position == HOLD) or (action == HOLD and self.position == SELL):\n",
    "            self.balance -= curr_price\n",
    "            self.shares_held += 1\n",
    "        \n",
    "        # A Sell\n",
    "        elif (action == SELL and self.position == HOLD) or (action == HOLD and self.position == BUY):\n",
    "            self.balance += curr_price\n",
    "            self.shares_held -= 1\n",
    "            \n",
    "        # Flip Position\n",
    "        elif abs(action - self.position) == 2:\n",
    "            self.balance -= 2 * action * curr_price\n",
    "            self.shares_held -= 2 * action\n",
    "        \n",
    "        \n",
    "    def step(self, act):\n",
    "        ''' Updates environment with action taken, returns new state and reward from state transition '''\n",
    "        \n",
    "        prior_portfolio_value = self.get_portfolio_value()\n",
    "        \n",
    "        # Transforms SELL, HOLD, BUY to -1, 0, 1\n",
    "        action = act - 1 \n",
    "        self._take_action(action)\n",
    "        \n",
    "        # the change in portfolio value\n",
    "        reward = self.get_portfolio_value() - prior_portfolio_value     \n",
    "\n",
    "        # current portfolio value\n",
    "        self.portfolio_value = self.get_portfolio_value()\n",
    "        \n",
    "        # Update historical data\n",
    "        self.current_step += 1\n",
    "        self.position = action\n",
    "        \n",
    "        # no more money\n",
    "#         if self.balance <= 0 or self.portfolio_value <= 0:\n",
    "#             self.done = True\n",
    "        '''modification: Finish going through the data\"\n",
    "        '''\n",
    "        if self.current_step >= len(self.data) - 1 - self.num_days:\n",
    "            self.done = True\n",
    "        \n",
    "        obs = self._next_observation()\n",
    "        #print(\"step\", obs)\n",
    "        \n",
    "        # require to return: observation, reward, done, info\n",
    "        return obs, reward, self.done, {}\n",
    "    \n",
    "    \n",
    "    def get_portfolio_value(self):\n",
    "        ''' Returns current portfolio value '''\n",
    "        curr_price = self.data[self.current_step]\n",
    "        \n",
    "        if self.position == BUY:\n",
    "            return self.balance + curr_price\n",
    "        \n",
    "        elif self.position == SELL:\n",
    "            return self.balance - curr_price\n",
    "        return self.balance\n",
    "    \n",
    "    \n",
    "    \n",
    "    def reset(self):\n",
    "        '''Reset everything as if we just started (for a new episode)'''\n",
    "        self.position = 0\n",
    "        \n",
    "        self.balance = INITIAL_BALANCE\n",
    "        self.net_worth = INITIAL_BALANCE\n",
    "        self.max_net_worth = INITIAL_BALANCE\n",
    "        \n",
    "        self.portfolio_value = self.balance\n",
    "        self.shares_held = 0\n",
    "        self.done = False\n",
    "        \n",
    "        \n",
    "        self.current_step = 5\n",
    "        \n",
    "        obs = self._next_observation()   \n",
    "        return obs\n",
    "\n",
    "    def save_portfolio(self, mode='human'):\n",
    "        with open('output.csv', 'a') as file:\n",
    "            file.write(f'{self.current_step},{self.portfolio_value},{self.balance}\\n')\n",
    "        return\n",
    "    \n",
    "\n",
    "        \n",
    "'''NOTE: there is no train/test split yet'''            \n",
    "data = load_data([2])\n",
    "\n",
    "env = Environment(data.close, INITIAL_BALANCE)\n",
    "print(env)"
   ]
  },
  {
   "cell_type": "code",
   "execution_count": 244,
   "metadata": {},
   "outputs": [],
   "source": [
    "from stable_baselines.common.env_checker import check_env\n",
    "\n",
    "env_check = Environment(data.close, INITIAL_BALANCE)\n",
    "# It will check your custom environment and output additional warnings if needed\n",
    "check_env(env_check)"
   ]
  },
  {
   "cell_type": "markdown",
   "metadata": {},
   "source": [
    "The model used is PPO2 \n",
    "\n",
    "#### Short excerpt from docs: \n",
    "The Proximal Policy Optimization (PPO) algorithm combines ideas from A2C (having multiple workers) and TRPO (it uses a trust region to improve the actor).\n",
    "\n",
    "#### Link to doc:\n",
    "https://stable-baselines.readthedocs.io/en/master/modules/ppo2.html\n",
    "\n",
    "* there's other actor-critic based models to implement as well\n"
   ]
  },
  {
   "cell_type": "markdown",
   "metadata": {},
   "source": [
    "PS: I have yet to know how to interpret the results below"
   ]
  },
  {
   "cell_type": "code",
   "execution_count": 231,
   "metadata": {},
   "outputs": [
    {
     "data": {
      "text/plain": [
       "0        3020.00\n",
       "1        3020.00\n",
       "2        3026.83\n",
       "3        3024.88\n",
       "4        3030.46\n",
       "          ...   \n",
       "10748    3406.00\n",
       "10749    3403.50\n",
       "10750    3406.00\n",
       "10751    3406.69\n",
       "10752    3405.51\n",
       "Name: close, Length: 10753, dtype: float64"
      ]
     },
     "execution_count": 231,
     "metadata": {},
     "output_type": "execute_result"
    }
   ],
   "source": [
    "data.close"
   ]
  },
  {
   "cell_type": "code",
   "execution_count": 232,
   "metadata": {},
   "outputs": [
    {
     "name": "stdout",
     "output_type": "stream",
     "text": [
      "Wrapping the env in a DummyVecEnv.\n",
      "---------------------------------------\n",
      "| approxkl           | 7.529418e-06   |\n",
      "| clipfrac           | 0.0            |\n",
      "| explained_variance | 0.000122       |\n",
      "| fps                | 248            |\n",
      "| n_updates          | 1              |\n",
      "| policy_entropy     | 1.0986017      |\n",
      "| policy_loss        | -0.00040190446 |\n",
      "| serial_timesteps   | 128            |\n",
      "| time_elapsed       | 1.69e-05       |\n",
      "| total_timesteps    | 128            |\n",
      "| value_loss         | 3198119.8      |\n",
      "---------------------------------------\n",
      "--------------------------------------\n",
      "| approxkl           | 8.764678e-06  |\n",
      "| clipfrac           | 0.0           |\n",
      "| explained_variance | 0.00015       |\n",
      "| fps                | 652           |\n",
      "| n_updates          | 2             |\n",
      "| policy_entropy     | 1.0985639     |\n",
      "| policy_loss        | -0.0005127877 |\n",
      "| serial_timesteps   | 256           |\n",
      "| time_elapsed       | 0.517         |\n",
      "| total_timesteps    | 256           |\n",
      "| value_loss         | 3272954.8     |\n",
      "--------------------------------------\n",
      "--------------------------------------\n",
      "| approxkl           | 4.835068e-06  |\n",
      "| clipfrac           | 0.0           |\n",
      "| explained_variance | 0.000223      |\n",
      "| fps                | 657           |\n",
      "| n_updates          | 3             |\n",
      "| policy_entropy     | 1.0984746     |\n",
      "| policy_loss        | -5.169527e-05 |\n",
      "| serial_timesteps   | 384           |\n",
      "| time_elapsed       | 0.714         |\n",
      "| total_timesteps    | 384           |\n",
      "| value_loss         | 3128984.2     |\n",
      "--------------------------------------\n",
      "--------------------------------------\n",
      "| approxkl           | 4.9447162e-06 |\n",
      "| clipfrac           | 0.0           |\n",
      "| explained_variance | 0.000305      |\n",
      "| fps                | 654           |\n",
      "| n_updates          | 4             |\n",
      "| policy_entropy     | 1.098457      |\n",
      "| policy_loss        | -0.0003233744 |\n",
      "| serial_timesteps   | 512           |\n",
      "| time_elapsed       | 0.91          |\n",
      "| total_timesteps    | 512           |\n",
      "| value_loss         | 2912008.0     |\n",
      "--------------------------------------\n",
      "-------------------------------------\n",
      "| approxkl           | 7.153554e-06 |\n",
      "| clipfrac           | 0.0          |\n",
      "| explained_variance | 0.000259     |\n",
      "| fps                | 649          |\n",
      "| n_updates          | 5            |\n",
      "| policy_entropy     | 1.0984102    |\n",
      "| policy_loss        | -1.02208e-05 |\n",
      "| serial_timesteps   | 640          |\n",
      "| time_elapsed       | 1.11         |\n",
      "| total_timesteps    | 640          |\n",
      "| value_loss         | 3354847.8    |\n",
      "-------------------------------------\n",
      "--------------------------------------\n",
      "| approxkl           | 1.3514623e-06 |\n",
      "| clipfrac           | 0.0           |\n",
      "| explained_variance | 0.000338      |\n",
      "| fps                | 629           |\n",
      "| n_updates          | 6             |\n",
      "| policy_entropy     | 1.0984288     |\n",
      "| policy_loss        | -0.0001526376 |\n",
      "| serial_timesteps   | 768           |\n",
      "| time_elapsed       | 1.31          |\n",
      "| total_timesteps    | 768           |\n",
      "| value_loss         | 3638838.0     |\n",
      "--------------------------------------\n",
      "---------------------------------------\n",
      "| approxkl           | 4.1386215e-06  |\n",
      "| clipfrac           | 0.0            |\n",
      "| explained_variance | 0.000475       |\n",
      "| fps                | 655            |\n",
      "| n_updates          | 7              |\n",
      "| policy_entropy     | 1.0984445      |\n",
      "| policy_loss        | -0.00030752853 |\n",
      "| serial_timesteps   | 896            |\n",
      "| time_elapsed       | 1.51           |\n",
      "| total_timesteps    | 896            |\n",
      "| value_loss         | 3620583.2      |\n",
      "---------------------------------------\n"
     ]
    },
    {
     "data": {
      "text/plain": [
       "<stable_baselines.ppo2.ppo2.PPO2 at 0x15d697630>"
      ]
     },
     "execution_count": 232,
     "metadata": {},
     "output_type": "execute_result"
    }
   ],
   "source": [
    "from stable_baselines import PPO2\n",
    "from stable_baselines.common.policies import MlpPolicy\n",
    "\n",
    "'''verbose = 1: training step\n",
    "Mlp Policy: Policy object that implements actor critic, using a MLP (2 layers of 64)\n",
    "MLP: Multilayer Perceptron\n",
    "'''\n",
    "\n",
    "model = PPO2(MlpPolicy, env, verbose=1)\n",
    "\n",
    "'''total timesteps: total number of samples to train on'''\n",
    "model.learn(total_timesteps=1000) "
   ]
  },
  {
   "cell_type": "markdown",
   "metadata": {},
   "source": [
    "Value_loss seems suspiciously high"
   ]
  },
  {
   "cell_type": "code",
   "execution_count": 233,
   "metadata": {},
   "outputs": [],
   "source": [
    "obs = env.reset()\n",
    "#env = Environment(test_data, INITIAL_BALANCE)\n",
    "\n",
    "prices = []\n",
    "rewards = []\n",
    "actions = []\n",
    "for i in range(2000):\n",
    "    action, _states = model.predict(obs, deterministic=True)\n",
    "    \n",
    "    obs, reward, done, _ = env.step(action)\n",
    "    \n",
    "    actions.append(action)\n",
    "    rewards.append(reward)\n",
    "\n",
    "    prices.append(obs[4]) # current timestep's closing price\n",
    "    env.save_portfolio()"
   ]
  },
  {
   "cell_type": "code",
   "execution_count": 234,
   "metadata": {},
   "outputs": [],
   "source": [
    "portfolio = pd.read_csv(\"output.csv\", header=None, names=[\"index\", \"portfolio\", \"balance\"])"
   ]
  },
  {
   "cell_type": "code",
   "execution_count": 235,
   "metadata": {},
   "outputs": [
    {
     "data": {
      "text/html": [
       "<div>\n",
       "<style scoped>\n",
       "    .dataframe tbody tr th:only-of-type {\n",
       "        vertical-align: middle;\n",
       "    }\n",
       "\n",
       "    .dataframe tbody tr th {\n",
       "        vertical-align: top;\n",
       "    }\n",
       "\n",
       "    .dataframe thead th {\n",
       "        text-align: right;\n",
       "    }\n",
       "</style>\n",
       "<table border=\"1\" class=\"dataframe\">\n",
       "  <thead>\n",
       "    <tr style=\"text-align: right;\">\n",
       "      <th></th>\n",
       "      <th>index</th>\n",
       "      <th>portfolio</th>\n",
       "      <th>balance</th>\n",
       "    </tr>\n",
       "  </thead>\n",
       "  <tbody>\n",
       "    <tr>\n",
       "      <th>1990</th>\n",
       "      <td>2892</td>\n",
       "      <td>9885.705482</td>\n",
       "      <td>13070.744382</td>\n",
       "    </tr>\n",
       "    <tr>\n",
       "      <th>1991</th>\n",
       "      <td>2893</td>\n",
       "      <td>9887.107782</td>\n",
       "      <td>13070.744382</td>\n",
       "    </tr>\n",
       "    <tr>\n",
       "      <th>1992</th>\n",
       "      <td>2894</td>\n",
       "      <td>9886.986782</td>\n",
       "      <td>13070.744382</td>\n",
       "    </tr>\n",
       "    <tr>\n",
       "      <th>1993</th>\n",
       "      <td>2895</td>\n",
       "      <td>9886.199082</td>\n",
       "      <td>13070.744382</td>\n",
       "    </tr>\n",
       "    <tr>\n",
       "      <th>1994</th>\n",
       "      <td>2896</td>\n",
       "      <td>9886.724382</td>\n",
       "      <td>13070.744382</td>\n",
       "    </tr>\n",
       "    <tr>\n",
       "      <th>1995</th>\n",
       "      <td>2897</td>\n",
       "      <td>9884.389082</td>\n",
       "      <td>13070.744382</td>\n",
       "    </tr>\n",
       "    <tr>\n",
       "      <th>1996</th>\n",
       "      <td>2898</td>\n",
       "      <td>9885.654382</td>\n",
       "      <td>13070.744382</td>\n",
       "    </tr>\n",
       "    <tr>\n",
       "      <th>1997</th>\n",
       "      <td>2899</td>\n",
       "      <td>9883.079382</td>\n",
       "      <td>13070.744382</td>\n",
       "    </tr>\n",
       "    <tr>\n",
       "      <th>1998</th>\n",
       "      <td>2900</td>\n",
       "      <td>9882.724382</td>\n",
       "      <td>13070.744382</td>\n",
       "    </tr>\n",
       "    <tr>\n",
       "      <th>1999</th>\n",
       "      <td>2901</td>\n",
       "      <td>9881.054382</td>\n",
       "      <td>13070.744382</td>\n",
       "    </tr>\n",
       "  </tbody>\n",
       "</table>\n",
       "</div>"
      ],
      "text/plain": [
       "      index    portfolio       balance\n",
       "1990   2892  9885.705482  13070.744382\n",
       "1991   2893  9887.107782  13070.744382\n",
       "1992   2894  9886.986782  13070.744382\n",
       "1993   2895  9886.199082  13070.744382\n",
       "1994   2896  9886.724382  13070.744382\n",
       "1995   2897  9884.389082  13070.744382\n",
       "1996   2898  9885.654382  13070.744382\n",
       "1997   2899  9883.079382  13070.744382\n",
       "1998   2900  9882.724382  13070.744382\n",
       "1999   2901  9881.054382  13070.744382"
      ]
     },
     "execution_count": 235,
     "metadata": {},
     "output_type": "execute_result"
    }
   ],
   "source": [
    "portfolio.tail(10)"
   ]
  },
  {
   "cell_type": "code",
   "execution_count": 236,
   "metadata": {},
   "outputs": [],
   "source": [
    "# actions were 0, 1, 2 (to integrate with stable_baselines)\n",
    "# this changes it back to target_actions\n",
    "\n",
    "target_actions = []\n",
    "for a in actions:\n",
    "    if a == 0:\n",
    "        target_actions.append(-1)\n",
    "    elif a == 1:\n",
    "        target_actions.append(0)\n",
    "    else:\n",
    "        target_actions.append(1)"
   ]
  },
  {
   "cell_type": "code",
   "execution_count": 245,
   "metadata": {},
   "outputs": [
    {
     "data": {
      "text/plain": [
       "True"
      ]
     },
     "execution_count": 245,
     "metadata": {},
     "output_type": "execute_result"
    }
   ],
   "source": [
    "len(portfolio) == len(target_actions)"
   ]
  },
  {
   "cell_type": "code",
   "execution_count": 239,
   "metadata": {},
   "outputs": [
    {
     "data": {
      "image/png": "[encoded data removed]",
      "text/plain": [
       "<Figure size 1296x648 with 2 Axes>"
      ]
     },
     "metadata": {},
     "output_type": "display_data"
    }
   ],
   "source": [
    "plot(prices, target_actions, portfolio.portfolio[-2000:])"
   ]
  },
  {
   "cell_type": "markdown",
   "metadata": {},
   "source": [
    "\n",
    "- sometimes, the portfolio values goes to negative :O "
   ]
  },
  {
   "cell_type": "markdown",
   "metadata": {},
   "source": [
    "Update 1 Oct: Okay, now it doesn't go to negative. The modifications since last time are:\n",
    "- data to take in list\n",
    "- set the \"done\" flag to True when the model iterates through the whole dataset. \n",
    "- increase the number of samples (timesteps) for the model to train\n",
    "\n",
    "Comments:\n",
    "- Assuming the environment is okay, the model does not want to do anything, because currently the reward is based on the current_portfolio_value - prior_portfolio value. Hence, it wouldn't want the portfolio to go negative, coz it isn't rewarded. So the model is more \"rewarded\" if it doesn't do anything\n",
    "- or, I may have broken the code "
   ]
  }
 ],
 "metadata": {
  "kernelspec": {
   "display_name": "Python 3",
   "language": "python",
   "name": "python3"
  },
  "language_info": {
   "codemirror_mode": {
    "name": "ipython",
    "version": 3
   },
   "file_extension": ".py",
   "mimetype": "text/x-python",
   "name": "python",
   "nbconvert_exporter": "python",
   "pygments_lexer": "ipython3",
   "version": "3.6.4"
  }
 },
 "nbformat": 4,
 "nbformat_minor": 2
}
