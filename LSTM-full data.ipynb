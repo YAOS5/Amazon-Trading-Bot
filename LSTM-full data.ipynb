{
 "cells": [
  {
   "cell_type": "code",
   "execution_count": 1,
   "metadata": {},
   "outputs": [],
   "source": [
    "#requires tensorflow2\n",
    "import tensorflow as tf\n",
    "import pandas as pd\n",
    "import datetime as dt\n",
    "import matplotlib.pyplot as plt\n",
    "import keras\n",
    "import numpy as np\n",
    "from ads_utils import load_data, plot, Environment"
   ]
  },
  {
   "cell_type": "code",
   "execution_count": 2,
   "metadata": {},
   "outputs": [],
   "source": [
    "INITIAL_BALANCE = 10_000\n",
    "PAST_TICKS = 5"
   ]
  },
  {
   "cell_type": "code",
   "execution_count": 3,
   "metadata": {},
   "outputs": [],
   "source": [
    "answers = [INITIAL_BALANCE]\n",
    "actions = []\n",
    "portfolio_values = [INITIAL_BALANCE]\n",
    "balance = INITIAL_BALANCE\n",
    "prices = []"
   ]
  },
  {
   "cell_type": "code",
   "execution_count": null,
   "metadata": {},
   "outputs": [
    {
     "name": "stdout",
     "output_type": "stream",
     "text": [
      "Epoch 1/20\n",
      "447/447 [==============================] - 38s 86ms/step - loss: 0.1217 - val_loss: 0.0127\n",
      "Epoch 2/20\n",
      "447/447 [==============================] - 38s 84ms/step - loss: 0.0077 - val_loss: 0.0059\n",
      "Epoch 3/20\n",
      "447/447 [==============================] - 38s 84ms/step - loss: 0.0068 - val_loss: 0.0033\n",
      "Epoch 4/20\n",
      "447/447 [==============================] - 39s 87ms/step - loss: 0.0058 - val_loss: 0.0017\n",
      "Epoch 5/20\n",
      "447/447 [==============================] - 39s 87ms/step - loss: 0.0051 - val_loss: 0.0011\n",
      "Epoch 6/20\n",
      "447/447 [==============================] - 39s 86ms/step - loss: 0.0045 - val_loss: 2.8265e-04\n",
      "Epoch 7/20\n",
      "447/447 [==============================] - 39s 88ms/step - loss: 0.0040 - val_loss: 3.0843e-04\n",
      "Epoch 8/20\n",
      "447/447 [==============================] - 39s 86ms/step - loss: 0.0038 - val_loss: 2.5980e-04\n",
      "Epoch 9/20\n",
      "447/447 [==============================] - 39s 87ms/step - loss: 0.0035 - val_loss: 5.9796e-04\n",
      "Epoch 10/20\n",
      "447/447 [==============================] - 40s 89ms/step - loss: 0.0032 - val_loss: 6.9959e-04\n",
      "Epoch 11/20\n",
      "447/447 [==============================] - 39s 88ms/step - loss: 0.0032 - val_loss: 9.8606e-04\n",
      "Epoch 12/20\n",
      "447/447 [==============================] - 44s 97ms/step - loss: 0.0031 - val_loss: 5.3835e-04\n",
      "Epoch 13/20\n",
      "148/447 [========>.....................] - ETA: 24s - loss: 0.0023"
     ]
    }
   ],
   "source": [
    "for i in range(6):\n",
    "    data = load_data([i for i in range(6-i,6-i+4)])\n",
    "    dataset = np.reshape(data['close'].values,(-1,1))\n",
    "    scaled_dataset = dataset\n",
    "    train= scaled_dataset[:int(scaled_dataset.shape[0]*0.75)]\n",
    "    valid = scaled_dataset[int(scaled_dataset.shape[0]*0.75)-60:]\n",
    "    from sklearn.preprocessing import MinMaxScaler\n",
    "    sc = MinMaxScaler(feature_range = (0, 1))\n",
    "    train2 = sc.fit_transform(train)\n",
    "    valid2 = sc.transform(valid)\n",
    "    x_train,y_train,x_test,y_test = [],[],[],[]\n",
    "    for j in range(60,train2.shape[0]):\n",
    "        x_train.append(train2[j-60:j,0])\n",
    "        y_train.append(train2[j,0])\n",
    "    for z in range(60,valid2.shape[0]):\n",
    "        x_test.append(valid2[z-60:z,0])\n",
    "        y_test.append(valid2[z,0])\n",
    "    x_train, y_train,x_test,y_test = np.array(x_train), np.array(y_train),np.array(x_test),np.array(y_test)\n",
    "    x_train = np.reshape(x_train, (x_train.shape[0],x_train.shape[1],1))\n",
    "    x_test=np.reshape(x_test,(x_test.shape[0],x_test.shape[1],1))\n",
    "    from keras.models import Sequential\n",
    "    from keras.layers import Dense, Dropout,LSTM\n",
    "    from keras.optimizers import Adam\n",
    "    model = Sequential()\n",
    "    model.add(LSTM(units=100,input_shape=(x_train.shape[1],1),return_sequences=True))\n",
    "    model.add(LSTM(units=100))\n",
    "    model.add(Dropout(0.4))\n",
    "    model.add(Dense(1))\n",
    "    ADAM = Adam(0.00001, beta_1=0.9, beta_2=0.999, amsgrad=False)\n",
    "    model.compile(loss='mean_squared_error', optimizer=ADAM)\n",
    "    history = model.fit(x_train,y_train,epochs=20,batch_size=72,validation_data=(x_test,y_test),verbose=1,shuffle=False)\n",
    "    predicted_stock_price = sc.inverse_transform(model.predict(x_test))\n",
    "    actual_stock_price = sc.inverse_transform(y_test.reshape((-1,1)))\n",
    "    for j in range(len(actual_stock_price)):\n",
    "        prices.append(actual_stock_price[j][0])\n",
    "    for j in range(1,len(predicted_stock_price)):\n",
    "        if predicted_stock_price[j]>actual_stock_price[j-1]:\n",
    "            #go long\n",
    "            balance += actual_stock_price[j]-actual_stock_price[j-1]\n",
    "            actions.append(2)\n",
    "        else:\n",
    "            #go short\n",
    "            balance += actual_stock_price[j-1]-actual_stock_price[j]\n",
    "            actions.append(0)\n",
    "        portfolio_values.append(float(balance))\n",
    "    plot(prices=prices,target_positions = actions,portfolio_values = portfolio_values)"
   ]
  },
  {
   "cell_type": "code",
   "execution_count": null,
   "metadata": {},
   "outputs": [],
   "source": []
  }
 ],
 "metadata": {
  "kernelspec": {
   "display_name": "Python 3",
   "language": "python",
   "name": "python3"
  },
  "language_info": {
   "codemirror_mode": {
    "name": "ipython",
    "version": 3
   },
   "file_extension": ".py",
   "mimetype": "text/x-python",
   "name": "python",
   "nbconvert_exporter": "python",
   "pygments_lexer": "ipython3",
   "version": "3.8.5"
  }
 },
 "nbformat": 4,
 "nbformat_minor": 4
}
